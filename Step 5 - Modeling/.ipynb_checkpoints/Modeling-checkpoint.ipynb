{
 "cells": [
  {
   "cell_type": "markdown",
   "metadata": {},
   "source": [
    "# 5 Modeling"
   ]
  },
  {
   "cell_type": "markdown",
   "metadata": {},
   "source": [
    "## 5.1 Import Modules and Data"
   ]
  },
  {
   "cell_type": "code",
   "execution_count": 1,
   "metadata": {},
   "outputs": [],
   "source": [
    "import pandas as pd\n",
    "import matplotlib.pyplot as plt\n",
    "import seaborn as sns\n",
    "import numpy as np\n",
    "import pickle\n",
    "\n",
    "from sklearn.model_selection import GridSearchCV\n",
    "\n",
    "from sklearn.linear_model import LogisticRegression\n",
    "from sklearn import tree\n",
    "from sklearn.neighbors import KNeighborsClassifier\n",
    "from sklearn.ensemble import RandomForestClassifier\n",
    "\n",
    "from sklearn.metrics import f1_score, classification_report, plot_confusion_matrix"
   ]
  },
  {
   "cell_type": "code",
   "execution_count": 2,
   "metadata": {},
   "outputs": [
    {
     "name": "stdout",
     "output_type": "stream",
     "text": [
      "(207, 22) (207, 1)\n",
      "(222, 22) (222, 1)\n",
      "(237, 22) (237, 1)\n"
     ]
    }
   ],
   "source": [
    "Train70 = open('../Step 4 - Pre-Processing/Train70Data.p','rb')\n",
    "X_train70,y_train70 = pickle.load(Train70)\n",
    "Train70.close()\n",
    "\n",
    "Train75 = open('../Step 4 - Pre-Processing/Train75Data.p','rb')\n",
    "X_train75,y_train75 = pickle.load(Train75)\n",
    "Train75.close()\n",
    "\n",
    "Train80 = open('../Step 4 - Pre-Processing/Train80Data.p','rb')\n",
    "X_train80,y_train80 = pickle.load(Train80)\n",
    "Train80.close()\n",
    "\n",
    "Test30 = open('../Step 4 - Pre-Processing/Test30Data.p','rb')\n",
    "X_test30,y_test30 = pickle.load(Test30)\n",
    "Test30.close()\n",
    "\n",
    "Test25 = open('../Step 4 - Pre-Processing/Test25Data.p','rb')\n",
    "X_test25,y_test25 = pickle.load(Test25)\n",
    "Test25.close()\n",
    "\n",
    "Test20 = open('../Step 4 - Pre-Processing/Test20Data.p','rb')\n",
    "X_test20,y_test20 = pickle.load(Test20)\n",
    "Test20.close()\n",
    "\n",
    "X_train70,y_train70 = X_train70.values,y_train70.values\n",
    "X_train75,y_train75 = X_train75.values,y_train75.values\n",
    "X_train80,y_train80 = X_train80.values,y_train80.values\n",
    "X_test30,y_test30 = X_test30.values,y_test30.values\n",
    "X_test25,y_test25 = X_test25.values,y_test25.values\n",
    "X_test20,y_test20 = X_test20.values,y_test20.values\n",
    "print(X_train70.shape,y_train70.shape)\n",
    "print(X_train75.shape,y_train75.shape)\n",
    "print(X_train80.shape,y_train80.shape)"
   ]
  },
  {
   "cell_type": "markdown",
   "metadata": {},
   "source": [
    "## 5.2 Logistic Regression"
   ]
  },
  {
   "cell_type": "code",
   "execution_count": 3,
   "metadata": {},
   "outputs": [
    {
     "name": "stdout",
     "output_type": "stream",
     "text": [
      "A train test split of 70/30 had a best params of {'C': 0.01} with a score of 0.8207897793263645 and a F1 Score : 0.8395061728395062 on the test data.\n",
      "\n",
      "A train test split of 75/25 had a best params of {'C': 0.01} with a score of 0.8425252525252525 and a F1 Score : 0.8055555555555555 on the test data.\n",
      "\n",
      "A train test split of 80/20 had a best params of {'C': 0.01} with a score of 0.8440602836879434 and a F1 Score : 0.7924528301886792 on the test data.\n",
      "\n"
     ]
    },
    {
     "name": "stderr",
     "output_type": "stream",
     "text": [
      "C:\\Users\\DinkaFox\\anaconda3\\lib\\site-packages\\sklearn\\utils\\validation.py:73: DataConversionWarning: A column-vector y was passed when a 1d array was expected. Please change the shape of y to (n_samples, ), for example using ravel().\n",
      "  return f(**kwargs)\n",
      "C:\\Users\\DinkaFox\\anaconda3\\lib\\site-packages\\sklearn\\utils\\validation.py:73: DataConversionWarning: A column-vector y was passed when a 1d array was expected. Please change the shape of y to (n_samples, ), for example using ravel().\n",
      "  return f(**kwargs)\n",
      "C:\\Users\\DinkaFox\\anaconda3\\lib\\site-packages\\sklearn\\utils\\validation.py:73: DataConversionWarning: A column-vector y was passed when a 1d array was expected. Please change the shape of y to (n_samples, ), for example using ravel().\n",
      "  return f(**kwargs)\n"
     ]
    }
   ],
   "source": [
    "logReg = LogisticRegression()\n",
    "params = {'C' : [0.01,0.1,0.5,1,1.1,1.5]}\n",
    "gSearchCV = GridSearchCV(logReg, param_grid = params, cv=5, n_jobs = -1)\n",
    "\n",
    "gSearchCV.fit(X_train70,y_train70)\n",
    "y_predTest30 = gSearchCV.predict(X_test30)\n",
    "\n",
    "F1score = f1_score(y_test30,y_predTest30)\n",
    "print(f'A train test split of 70/30 had a best params of {gSearchCV.best_params_} with a score of {gSearchCV.best_score_} and a F1 Score : {F1score} on the test data.\\n')\n",
    "\n",
    "gSearchCV.fit(X_train75,y_train75)\n",
    "y_predTest25 = gSearchCV.predict(X_test25)\n",
    "\n",
    "F1score = f1_score(y_test25,y_predTest25)\n",
    "print(f'A train test split of 75/25 had a best params of {gSearchCV.best_params_} with a score of {gSearchCV.best_score_} and a F1 Score : {F1score} on the test data.\\n')\n",
    "\n",
    "gSearchCV.fit(X_train80,y_train80)\n",
    "y_predTest20 = gSearchCV.predict(X_test20)\n",
    "\n",
    "F1score = f1_score(y_test20,y_predTest20)\n",
    "print(f'A train test split of 80/20 had a best params of {gSearchCV.best_params_} with a score of {gSearchCV.best_score_} and a F1 Score : {F1score} on the test data.\\n')"
   ]
  },
  {
   "cell_type": "code",
   "execution_count": 4,
   "metadata": {},
   "outputs": [
    {
     "name": "stdout",
     "output_type": "stream",
     "text": [
      "               precision    recall  f1-score   support\n",
      "\n",
      "   No Disease       0.78      0.98      0.87        44\n",
      "Heart Disease       0.97      0.74      0.84        46\n",
      "\n",
      "     accuracy                           0.86        90\n",
      "    macro avg       0.88      0.86      0.85        90\n",
      " weighted avg       0.88      0.86      0.85        90\n",
      "\n"
     ]
    }
   ],
   "source": [
    "LogRegRpt = classification_report(y_test30,y_predTest30,target_names = ['No Disease','Heart Disease'])\n",
    "print(LogRegRpt)"
   ]
  },
  {
   "cell_type": "markdown",
   "metadata": {},
   "source": [
    "Starting with a Logistic Regression, we apply multiple C parameter values on GridSearchCV to help us find the best C parameter. We applied this on the 3 train test splits that were made and took the split with the best F1 score and used that to evaluate the classification report. Looking at all of them though, we see that they all chose 0.01 as the best C parameter. The highest F1 score observed was on the 70/30 train test split with 0.83. "
   ]
  },
  {
   "cell_type": "markdown",
   "metadata": {},
   "source": [
    "## 5.3 Decision Trees"
   ]
  },
  {
   "cell_type": "code",
   "execution_count": 5,
   "metadata": {},
   "outputs": [
    {
     "name": "stdout",
     "output_type": "stream",
     "text": [
      "A train test split of 70/30 had a best params of {'criterion': 'gini', 'max_depth': 3} with a score of 0.7777003484320557 and a F1 Score : 0.7294117647058824 on the test data.\n",
      "\n",
      "A train test split of 75/25 had a best params of {'criterion': 'entropy', 'max_depth': 4} with a score of 0.7973737373737375 and a F1 Score : 0.6349206349206348 on the test data.\n",
      "\n",
      "A train test split of 80/20 had a best params of {'criterion': 'entropy', 'max_depth': 3} with a score of 0.8058510638297871 and a F1 Score : 0.7843137254901961 on the test data.\n",
      "\n"
     ]
    }
   ],
   "source": [
    "decTree = tree.DecisionTreeClassifier()\n",
    "params = {'criterion' : ['gini','entropy'], 'max_depth' : [1,2,3,4,5]}\n",
    "gSearchCV = GridSearchCV(decTree, param_grid = params, cv=5, n_jobs = -1)\n",
    "\n",
    "gSearchCV.fit(X_train70,y_train70)\n",
    "y_predTest30 = gSearchCV.predict(X_test30)\n",
    "\n",
    "F1score = f1_score(y_test30,y_predTest30)\n",
    "print(f'A train test split of 70/30 had a best params of {gSearchCV.best_params_} with a score of {gSearchCV.best_score_} and a F1 Score : {F1score} on the test data.\\n')\n",
    "\n",
    "gSearchCV.fit(X_train75,y_train75)\n",
    "y_predTest25 = gSearchCV.predict(X_test25)\n",
    "\n",
    "F1score = f1_score(y_test25,y_predTest25)\n",
    "print(f'A train test split of 75/25 had a best params of {gSearchCV.best_params_} with a score of {gSearchCV.best_score_} and a F1 Score : {F1score} on the test data.\\n')\n",
    "\n",
    "gSearchCV.fit(X_train80,y_train80)\n",
    "y_predTest20 = gSearchCV.predict(X_test20)\n",
    "\n",
    "F1score = f1_score(y_test20,y_predTest20)\n",
    "print(f'A train test split of 80/20 had a best params of {gSearchCV.best_params_} with a score of {gSearchCV.best_score_} and a F1 Score : {F1score} on the test data.\\n')"
   ]
  },
  {
   "cell_type": "code",
   "execution_count": 6,
   "metadata": {},
   "outputs": [
    {
     "name": "stdout",
     "output_type": "stream",
     "text": [
      "               precision    recall  f1-score   support\n",
      "\n",
      "   No Disease       0.81      0.88      0.84        33\n",
      "Heart Disease       0.83      0.74      0.78        27\n",
      "\n",
      "     accuracy                           0.82        60\n",
      "    macro avg       0.82      0.81      0.81        60\n",
      " weighted avg       0.82      0.82      0.82        60\n",
      "\n"
     ]
    }
   ],
   "source": [
    "DecTreeRpt = classification_report(y_test20,y_predTest20,target_names = ['No Disease','Heart Disease'])\n",
    "print(DecTreeRpt)"
   ]
  },
  {
   "cell_type": "markdown",
   "metadata": {},
   "source": [
    "Looking at our F1 score and precision recall, the metrics are close but not close enough to the Logistic Regression. Our best F1 score was found with the parameters of 'gini' for criterion and a 'max_depth'of 3 but it is still off by 0.055. We will be better off with Logistic Regression and will not continue looking at Decision Trees."
   ]
  },
  {
   "cell_type": "markdown",
   "metadata": {},
   "source": [
    "## 5.4 KNeighborsClassifier"
   ]
  },
  {
   "cell_type": "code",
   "execution_count": 7,
   "metadata": {},
   "outputs": [
    {
     "name": "stdout",
     "output_type": "stream",
     "text": [
      "A train test split of 70/30 had a best params of {'leaf_size': 15, 'weights': 'uniform'} with a score of 0.8116144018583042 and a F1 Score : 0.8571428571428571 on the test data.\n",
      "\n",
      "A train test split of 75/25 had a best params of {'leaf_size': 15, 'weights': 'uniform'} with a score of 0.8246464646464645 and a F1 Score : 0.7671232876712328 on the test data.\n",
      "\n",
      "A train test split of 80/20 had a best params of {'leaf_size': 15, 'weights': 'distance'} with a score of 0.839982269503546 and a F1 Score : 0.7777777777777778 on the test data.\n",
      "\n"
     ]
    },
    {
     "name": "stderr",
     "output_type": "stream",
     "text": [
      "C:\\Users\\DinkaFox\\anaconda3\\lib\\site-packages\\sklearn\\model_selection\\_search.py:765: DataConversionWarning: A column-vector y was passed when a 1d array was expected. Please change the shape of y to (n_samples, ), for example using ravel().\n",
      "  self.best_estimator_.fit(X, y, **fit_params)\n",
      "C:\\Users\\DinkaFox\\anaconda3\\lib\\site-packages\\sklearn\\model_selection\\_search.py:765: DataConversionWarning: A column-vector y was passed when a 1d array was expected. Please change the shape of y to (n_samples, ), for example using ravel().\n",
      "  self.best_estimator_.fit(X, y, **fit_params)\n",
      "C:\\Users\\DinkaFox\\anaconda3\\lib\\site-packages\\sklearn\\model_selection\\_search.py:765: DataConversionWarning: A column-vector y was passed when a 1d array was expected. Please change the shape of y to (n_samples, ), for example using ravel().\n",
      "  self.best_estimator_.fit(X, y, **fit_params)\n"
     ]
    }
   ],
   "source": [
    "decTree = KNeighborsClassifier()\n",
    "params = {'weights' : ['uniform','distance'], 'leaf_size' : [15,30,60,100,150,300]}\n",
    "gSearchCV = GridSearchCV(decTree,param_grid = params, cv=5, n_jobs = -1)\n",
    "\n",
    "gSearchCV.fit(X_train70,y_train70)\n",
    "y_predTest30 = gSearchCV.predict(X_test30)\n",
    "\n",
    "F1score = f1_score(y_test30,y_predTest30)\n",
    "print(f'A train test split of 70/30 had a best params of {gSearchCV.best_params_} with a score of {gSearchCV.best_score_} and a F1 Score : {F1score} on the test data.\\n')\n",
    "\n",
    "gSearchCV.fit(X_train75,y_train75)\n",
    "y_predTest25 = gSearchCV.predict(X_test25)\n",
    "\n",
    "F1score = f1_score(y_test25,y_predTest25)\n",
    "print(f'A train test split of 75/25 had a best params of {gSearchCV.best_params_} with a score of {gSearchCV.best_score_} and a F1 Score : {F1score} on the test data.\\n')\n",
    "\n",
    "gSearchCV.fit(X_train80,y_train80)\n",
    "y_predTest20 = gSearchCV.predict(X_test20)\n",
    "\n",
    "F1score = f1_score(y_test20,y_predTest20)\n",
    "print(f'A train test split of 80/20 had a best params of {gSearchCV.best_params_} with a score of {gSearchCV.best_score_} and a F1 Score : {F1score} on the test data.\\n')"
   ]
  },
  {
   "cell_type": "code",
   "execution_count": 8,
   "metadata": {},
   "outputs": [
    {
     "name": "stdout",
     "output_type": "stream",
     "text": [
      "               precision    recall  f1-score   support\n",
      "\n",
      "   No Disease       0.81      0.95      0.88        44\n",
      "Heart Disease       0.95      0.78      0.86        46\n",
      "\n",
      "     accuracy                           0.87        90\n",
      "    macro avg       0.88      0.87      0.87        90\n",
      " weighted avg       0.88      0.87      0.87        90\n",
      "\n"
     ]
    }
   ],
   "source": [
    "KNeigRpt = classification_report(y_test30,y_predTest30,target_names = ['No Disease','Heart Disease'])\n",
    "print(KNeigRpt)"
   ]
  },
  {
   "cell_type": "markdown",
   "metadata": {},
   "source": [
    "Looking at our classification report and F1 Score, K Neighbor Classifier achieved a higher F1 score than our logisitc regression but we notice some interesting trade offs in the precision and recall scores. Our best parameters were a 'leaf_size' of 15 and 'weights' value of uniform. We will want to look at this model further in comparison to the Logistic Regression to determine which model will best fit our situation."
   ]
  },
  {
   "cell_type": "markdown",
   "metadata": {},
   "source": [
    "## 5.5 Random Forest Classifier"
   ]
  },
  {
   "cell_type": "code",
   "execution_count": 9,
   "metadata": {},
   "outputs": [
    {
     "name": "stderr",
     "output_type": "stream",
     "text": [
      "C:\\Users\\DinkaFox\\anaconda3\\lib\\site-packages\\sklearn\\model_selection\\_search.py:765: DataConversionWarning: A column-vector y was passed when a 1d array was expected. Please change the shape of y to (n_samples,), for example using ravel().\n",
      "  self.best_estimator_.fit(X, y, **fit_params)\n"
     ]
    },
    {
     "name": "stdout",
     "output_type": "stream",
     "text": [
      "A train test split of 70/30 had a best params of {'criterion': 'gini', 'max_depth': 5, 'n_estimators': 25} with a score of 0.8256678281068524 and a F1 Score : 0.7948717948717949 on the test data.\n",
      "\n"
     ]
    },
    {
     "name": "stderr",
     "output_type": "stream",
     "text": [
      "C:\\Users\\DinkaFox\\anaconda3\\lib\\site-packages\\sklearn\\model_selection\\_search.py:765: DataConversionWarning: A column-vector y was passed when a 1d array was expected. Please change the shape of y to (n_samples,), for example using ravel().\n",
      "  self.best_estimator_.fit(X, y, **fit_params)\n"
     ]
    },
    {
     "name": "stdout",
     "output_type": "stream",
     "text": [
      "A train test split of 75/25 had a best params of {'criterion': 'entropy', 'max_depth': 2, 'n_estimators': 150} with a score of 0.8515151515151516 and a F1 Score : 0.7647058823529413 on the test data.\n",
      "\n",
      "A train test split of 80/20 had a best params of {'criterion': 'gini', 'max_depth': 3, 'n_estimators': 150} with a score of 0.8569148936170213 and a F1 Score : 0.8518518518518519 on the test data.\n",
      "\n"
     ]
    },
    {
     "name": "stderr",
     "output_type": "stream",
     "text": [
      "C:\\Users\\DinkaFox\\anaconda3\\lib\\site-packages\\sklearn\\model_selection\\_search.py:765: DataConversionWarning: A column-vector y was passed when a 1d array was expected. Please change the shape of y to (n_samples,), for example using ravel().\n",
      "  self.best_estimator_.fit(X, y, **fit_params)\n"
     ]
    }
   ],
   "source": [
    "rfClass = RandomForestClassifier()\n",
    "params = {'n_estimators' : [25,50,100,150,200,300,500], 'criterion' : ['gini','entropy'],'max_depth' : [1,2,3,4,5,6,7,8]}\n",
    "gSearchCV = GridSearchCV(rfClass,param_grid = params, cv=5, n_jobs = -1)\n",
    "\n",
    "gSearchCV.fit(X_train70,y_train70)\n",
    "y_predTest30 = gSearchCV.predict(X_test30)\n",
    "\n",
    "F1score = f1_score(y_test30,y_predTest30)\n",
    "print(f'A train test split of 70/30 had a best params of {gSearchCV.best_params_} with a score of {gSearchCV.best_score_} and a F1 Score : {F1score} on the test data.\\n')\n",
    "\n",
    "gSearchCV.fit(X_train75,y_train75)\n",
    "y_predTest25 = gSearchCV.predict(X_test25)\n",
    "\n",
    "F1score = f1_score(y_test25,y_predTest25)\n",
    "print(f'A train test split of 75/25 had a best params of {gSearchCV.best_params_} with a score of {gSearchCV.best_score_} and a F1 Score : {F1score} on the test data.\\n')\n",
    "\n",
    "gSearchCV.fit(X_train80,y_train80)\n",
    "y_predTest20 = gSearchCV.predict(X_test20)\n",
    "\n",
    "F1score = f1_score(y_test20,y_predTest20)\n",
    "print(f'A train test split of 80/20 had a best params of {gSearchCV.best_params_} with a score of {gSearchCV.best_score_} and a F1 Score : {F1score} on the test data.\\n')"
   ]
  },
  {
   "cell_type": "code",
   "execution_count": 10,
   "metadata": {},
   "outputs": [
    {
     "name": "stdout",
     "output_type": "stream",
     "text": [
      "               precision    recall  f1-score   support\n",
      "\n",
      "   No Disease       0.74      0.98      0.84        44\n",
      "Heart Disease       0.97      0.67      0.79        46\n",
      "\n",
      "     accuracy                           0.82        90\n",
      "    macro avg       0.86      0.83      0.82        90\n",
      " weighted avg       0.86      0.82      0.82        90\n",
      "\n"
     ]
    }
   ],
   "source": [
    "RfRpt = classification_report(y_test30,y_predTest30,target_names = ['No Disease','Heart Disease'])\n",
    "print(RfRpt)"
   ]
  },
  {
   "cell_type": "markdown",
   "metadata": {},
   "source": [
    "Looking at our best scores, it seems that they aren't close to K-Nearest Classifier or Logistic regression so it's safe to say that this model won't be used. With a lower F1 score and precision recall score removes this model as an option."
   ]
  },
  {
   "cell_type": "markdown",
   "metadata": {},
   "source": [
    "## 5.6 Conclusion"
   ]
  },
  {
   "cell_type": "code",
   "execution_count": 11,
   "metadata": {},
   "outputs": [
    {
     "name": "stdout",
     "output_type": "stream",
     "text": [
      "               precision    recall  f1-score   support\n",
      "\n",
      "   No Disease       0.78      0.98      0.87        44\n",
      "Heart Disease       0.97      0.74      0.84        46\n",
      "\n",
      "     accuracy                           0.86        90\n",
      "    macro avg       0.88      0.86      0.85        90\n",
      " weighted avg       0.88      0.86      0.85        90\n",
      "\n",
      "               precision    recall  f1-score   support\n",
      "\n",
      "   No Disease       0.81      0.88      0.84        33\n",
      "Heart Disease       0.83      0.74      0.78        27\n",
      "\n",
      "     accuracy                           0.82        60\n",
      "    macro avg       0.82      0.81      0.81        60\n",
      " weighted avg       0.82      0.82      0.82        60\n",
      "\n",
      "               precision    recall  f1-score   support\n",
      "\n",
      "   No Disease       0.81      0.95      0.88        44\n",
      "Heart Disease       0.95      0.78      0.86        46\n",
      "\n",
      "     accuracy                           0.87        90\n",
      "    macro avg       0.88      0.87      0.87        90\n",
      " weighted avg       0.88      0.87      0.87        90\n",
      "\n",
      "               precision    recall  f1-score   support\n",
      "\n",
      "   No Disease       0.74      0.98      0.84        44\n",
      "Heart Disease       0.97      0.67      0.79        46\n",
      "\n",
      "     accuracy                           0.82        90\n",
      "    macro avg       0.86      0.83      0.82        90\n",
      " weighted avg       0.86      0.82      0.82        90\n",
      "\n"
     ]
    }
   ],
   "source": [
    "print(LogRegRpt)\n",
    "print(DecTreeRpt)\n",
    "print(KNeigRpt)\n",
    "print(RfRpt)"
   ]
  },
  {
   "cell_type": "markdown",
   "metadata": {},
   "source": [
    "Looking at our four models, we see that KNearestClassifier provides us with the highest F1 score and highest accuarcy. Our second best is logistic regression but we achieved a higher precision and recall score in some of the categories as seen by our classification report. We will look at both of these models further to determine which fits out requirements best. Since we're trying to predict"
   ]
  },
  {
   "cell_type": "code",
   "execution_count": 12,
   "metadata": {},
   "outputs": [
    {
     "name": "stderr",
     "output_type": "stream",
     "text": [
      "C:\\Users\\DinkaFox\\anaconda3\\lib\\site-packages\\sklearn\\utils\\validation.py:73: DataConversionWarning: A column-vector y was passed when a 1d array was expected. Please change the shape of y to (n_samples, ), for example using ravel().\n",
      "  return f(**kwargs)\n"
     ]
    },
    {
     "data": {
      "text/plain": [
       "<sklearn.metrics._plot.confusion_matrix.ConfusionMatrixDisplay at 0x292fc55adf0>"
      ]
     },
     "execution_count": 12,
     "metadata": {},
     "output_type": "execute_result"
    },
    {
     "data": {
      "image/png": "[encoded data removed]",
      "text/plain": [
       "<Figure size 1080x1080 with 2 Axes>"
      ]
     },
     "metadata": {
      "needs_background": "light"
     },
     "output_type": "display_data"
    }
   ],
   "source": [
    "model1 = LogisticRegression(C = 0.01)\n",
    "model1.fit(X_train70,y_train70)\n",
    "\n",
    "fig, ax = plt.subplots()\n",
    "fig.set_figheight(15)\n",
    "fig.set_figwidth(15)\n",
    "plot_confusion_matrix(model1,X_test30,y_test30,cmap=plt.cm.Blues,ax=ax)"
   ]
  },
  {
   "cell_type": "code",
   "execution_count": 13,
   "metadata": {},
   "outputs": [
    {
     "name": "stderr",
     "output_type": "stream",
     "text": [
      "<ipython-input-13-2603b62783cc>:2: DataConversionWarning: A column-vector y was passed when a 1d array was expected. Please change the shape of y to (n_samples, ), for example using ravel().\n",
      "  model2.fit(X_train70,y_train70)\n"
     ]
    },
    {
     "data": {
      "text/plain": [
       "<sklearn.metrics._plot.confusion_matrix.ConfusionMatrixDisplay at 0x292fc4772e0>"
      ]
     },
     "execution_count": 13,
     "metadata": {},
     "output_type": "execute_result"
    },
    {
     "data": {
      "image/png": "[encoded data removed]",
      "text/plain": [
       "<Figure size 1080x1080 with 2 Axes>"
      ]
     },
     "metadata": {
      "needs_background": "light"
     },
     "output_type": "display_data"
    }
   ],
   "source": [
    "model2 = KNeighborsClassifier(leaf_size = 15,weights = 'uniform')\n",
    "model2.fit(X_train70,y_train70)\n",
    "\n",
    "fig, ax = plt.subplots()\n",
    "fig.set_figheight(15)\n",
    "fig.set_figwidth(15)\n",
    "plot_confusion_matrix(model2,X_test30,y_test30,cmap=plt.cm.Blues,ax=ax)"
   ]
  },
  {
   "cell_type": "markdown",
   "metadata": {},
   "source": [
    "Looking at the confusion matrixs, we can see the differences in predictions between the two models. In our Logistic Regression, we can see 12 False Negatives and 1 False Positive. One thing we want to focus on is reducing the number of False Negatives. This is because it is safer for the individual to be told they have heart disease when they do not than it is to tell them they don't have it when they do. If a doctor suggests changes to a lifestyle to someone who doesn't actually have heart disease, it will not harm them as much as not telling someone with it to make those changes. Looking at K Neighbors Classifier, we can see that we have 2 False Negatives but also 10 False Positives. We see lower False Positives with the K Neighbors Classifier and will decide to use this as our final model."
   ]
  },
  {
   "cell_type": "code",
   "execution_count": 14,
   "metadata": {},
   "outputs": [
    {
     "name": "stderr",
     "output_type": "stream",
     "text": [
      "<ipython-input-14-6eae749d5c32>:11: DataConversionWarning: A column-vector y was passed when a 1d array was expected. Please change the shape of y to (n_samples, ), for example using ravel().\n",
      "  finalModel.fit(X,y)\n"
     ]
    }
   ],
   "source": [
    "scaledData = open('../Step 4 - Pre-Processing/scaledData.p','rb')\n",
    "X = pickle.load(scaledData)\n",
    "scaledData.close()\n",
    "\n",
    "targetData = open('../Step 4 - Pre-Processing/TargetVariable.p','rb')\n",
    "y = pickle.load(targetData)\n",
    "targetData.close()\n",
    "\n",
    "\n",
    "finalModel = KNeighborsClassifier(leaf_size = 15,weights = 'uniform')\n",
    "finalModel.fit(X,y)\n",
    "\n",
    "KNeighborsModel = open('KNeighborsModel.p','wb')\n",
    "pickle.dump(finalModel,KNeighborsModel)\n",
    "KNeighborsModel.close()"
   ]
  },
  {
   "cell_type": "code",
   "execution_count": 15,
   "metadata": {},
   "outputs": [
    {
     "name": "stdout",
     "output_type": "stream",
     "text": [
      "              precision    recall  f1-score   support\n",
      "\n",
      "           0       0.87      0.89      0.88       160\n",
      "           1       0.86      0.84      0.85       137\n",
      "\n",
      "    accuracy                           0.87       297\n",
      "   macro avg       0.87      0.86      0.86       297\n",
      "weighted avg       0.87      0.87      0.87       297\n",
      "\n"
     ]
    }
   ],
   "source": [
    "print(classification_report(y,finalModel.predict(X)))"
   ]
  },
  {
   "cell_type": "code",
   "execution_count": 16,
   "metadata": {},
   "outputs": [
    {
     "data": {
      "image/png": "[encoded data removed]",
      "text/plain": [
       "<Figure size 1080x1080 with 2 Axes>"
      ]
     },
     "metadata": {
      "needs_background": "light"
     },
     "output_type": "display_data"
    }
   ],
   "source": [
    "fig, ax = plt.subplots()\n",
    "fig.set_figheight(15)\n",
    "fig.set_figwidth(15)\n",
    "plot_confusion_matrix(finalModel,X,y,cmap=plt.cm.Blues,ax=ax)\n",
    "plt.show()"
   ]
  },
  {
   "cell_type": "markdown",
   "metadata": {},
   "source": [
    "With this being our final model, we take a look at how our model performs when trained on the entire dataset. We can see that our classification report shows similar results which looks positive. With the model being trained on the entire dataset, the model is also exported to be able to be stored and accessed easily without needing to train a new model. The model is trained on the entire dataset since it will provide us with the best results for future predictions. We do not normally do this during testing to make sure the model we are evaluating is not overfitting to our data but after determining it is not, we train on the entire dataset."
   ]
  }
 ],
 "metadata": {
  "kernelspec": {
   "display_name": "Python 3",
   "language": "python",
   "name": "python3"
  },
  "language_info": {
   "codemirror_mode": {
    "name": "ipython",
    "version": 3
   },
   "file_extension": ".py",
   "mimetype": "text/x-python",
   "name": "python",
   "nbconvert_exporter": "python",
   "pygments_lexer": "ipython3",
   "version": "3.8.3"
  }
 },
 "nbformat": 4,
 "nbformat_minor": 4
}
