{
 "cells": [
  {
   "cell_type": "markdown",
   "metadata": {},
   "source": [
    "# 5 Modeling"
   ]
  },
  {
   "cell_type": "markdown",
   "metadata": {},
   "source": [
    "## 5.1 Import Modules and Data"
   ]
  },
  {
   "cell_type": "code",
   "execution_count": 98,
   "metadata": {},
   "outputs": [],
   "source": [
    "import pandas as pd\n",
    "import matplotlib.pyplot as plt\n",
    "import seaborn as sns\n",
    "import numpy as np\n",
    "import pickle\n",
    "\n",
    "from sklearn.model_selection import GridSearchCV\n",
    "\n",
    "from sklearn.linear_model import LogisticRegression\n",
    "from sklearn import tree\n",
    "from sklearn.neighbors import KNeighborsClassifier\n",
    "from sklearn.ensemble import RandomForestClassifier\n",
    "\n",
    "from sklearn.metrics import f1_score, plot_confusion_matrix,precision_score,recall_score,accuracy_score\n",
    "\n",
    "import warnings\n",
    "warnings.filterwarnings(\"ignore\")"
   ]
  },
  {
   "cell_type": "code",
   "execution_count": 99,
   "metadata": {},
   "outputs": [
    {
     "name": "stdout",
     "output_type": "stream",
     "text": [
      "(207, 13) (207, 1)\n"
     ]
    }
   ],
   "source": [
    "Train70 = open('../Step 4 - Pre-Processing/Train70Data.p','rb')\n",
    "X_train70, y_train70 = pickle.load(Train70)\n",
    "Train70.close()\n",
    "\n",
    "Test30 = open('../Step 4 - Pre-Processing/Test30Data.p','rb')\n",
    "X_test30, y_test30 = pickle.load(Test30)\n",
    "Test30.close()\n",
    "\n",
    "Train70_dummy = open('../Step 4 - Pre-Processing/Train70Data_dummy.p','rb')\n",
    "X_train70_dummy, y_train70_dummy = pickle.load(Train70_dummy)\n",
    "Train70_dummy.close()\n",
    "\n",
    "Test30_dummy = open('../Step 4 - Pre-Processing/Test30Data_dummy.p','rb')\n",
    "X_test30_dummy, y_test30_dummy = pickle.load(Test30_dummy)\n",
    "Test30_dummy.close()\n",
    "\n",
    "Train50 = open('../Step 4 - Pre-Processing/Train50Data.p','rb')\n",
    "X_train50, y_train50 = pickle.load(Train50)\n",
    "Train50.close()\n",
    "\n",
    "Test50 = open('../Step 4 - Pre-Processing/Test50Data.p','rb')\n",
    "X_test50, y_test50 = pickle.load(Test50)\n",
    "Test50.close()\n",
    "\n",
    "Train50_dummy = open('../Step 4 - Pre-Processing/Train50Data_dummy.p','rb')\n",
    "X_train50_dummy, y_train50_dummy = pickle.load(Train50_dummy)\n",
    "Train50_dummy.close()\n",
    "\n",
    "Test50_dummy = open('../Step 4 - Pre-Processing/Test50Data_dummy.p','rb')\n",
    "X_test50_dummy, y_test50_dummy = pickle.load(Test50_dummy)\n",
    "Test50_dummy.close()\n",
    "\n",
    "scaledData_dummy = open('../Step 4 - Pre-Processing/scaledFeatures_dummy.p','rb')\n",
    "scaledFeatures_dummy = pickle.load(scaledData_dummy)\n",
    "scaledData_dummy.close()\n",
    "\n",
    "scaledData = open('../Step 4 - Pre-Processing/scaledFeatures.p','rb')\n",
    "scaledFeatures = pickle.load(scaledData)\n",
    "scaledData.close()\n",
    "\n",
    "targetData = open('../Step 4 - Pre-Processing/targetVariable.p','rb')\n",
    "y = pickle.load(targetData)\n",
    "targetData.close()\n",
    "\n",
    "columnsData = open('../Step 4 - Pre-Processing/columnsData.p','rb')\n",
    "columns = pickle.load(columnsData)\n",
    "columnsData.close()\n",
    "\n",
    "columnsData_dummy = open('../Step 4 - Pre-Processing/columnsData_dummy.p','rb')\n",
    "columns_dummy = pickle.load(columnsData_dummy)\n",
    "columnsData_dummy.close()\n",
    "\n",
    "print(X_train70.shape, y_train70.shape)"
   ]
  },
  {
   "cell_type": "markdown",
   "metadata": {},
   "source": [
    "## 5.2 Logistic Regression"
   ]
  },
  {
   "cell_type": "code",
   "execution_count": 14,
   "metadata": {},
   "outputs": [
    {
     "name": "stdout",
     "output_type": "stream",
     "text": [
      "A train test split of 70/30 had a best params of {'C': 0.01, 'l1_ratio': 0.2, 'max_iter': 10, 'penalty': 'elasticnet', 'solver': 'saga'} with a score of 0.841 and a F1 Score : 0.811 on the test data.\n",
      "\n",
      "A train test split of 70/30 for dummy data had a best params of {'C': 0.1, 'l1_ratio': 0.7, 'max_iter': 10, 'penalty': 'elasticnet', 'solver': 'saga'} with a score of 0.846 and a F1 Score : 0.789 on the test data.\n",
      "\n",
      "A train test split of 50/50 had a best params of {'C': 0.1, 'l1_ratio': 0.2, 'max_iter': 10, 'penalty': 'elasticnet', 'solver': 'saga'} with a score of 0.838 and a F1 Score : 0.810 on the test data.\n",
      "\n",
      "A train test split of 50/50 for dummy data had a best params of {'C': 1.5, 'l1_ratio': 0.6, 'max_iter': 10, 'penalty': 'elasticnet', 'solver': 'saga'} with a score of 0.824 and a F1 Score : 0.807 on the test data.\n",
      "\n"
     ]
    }
   ],
   "source": [
    "logReg = LogisticRegression()\n",
    "params = {'C' : [0.01,0.1,0.5,1,1.1,1.5,2,3,5,10,15,30,50,100], 'max_iter' : [10,25,50,100,150,200], 'penalty' : ['elasticnet'], 'solver' : ['saga'], 'l1_ratio' : [x/10 for x in range(0,11)]}\n",
    "gSearchCV = GridSearchCV(logReg, param_grid = params, cv=7, n_jobs = -1)\n",
    "\n",
    "gSearchCV.fit(X_train70, y_train70)\n",
    "y_predTest30 = gSearchCV.predict(X_test30)\n",
    "\n",
    "F1score = f1_score(y_test30,y_predTest30)\n",
    "print('A train test split of 70/30 had a best params of %s with a score of %.3f and a F1 Score : %.3f on the test data.\\n' % (gSearchCV.best_params_, gSearchCV.best_score_,F1score))\n",
    "\n",
    "gSearchCV.fit(X_train70_dummy, y_train70_dummy)\n",
    "y_predTest30_dummy = gSearchCV.predict(X_test30_dummy)\n",
    "\n",
    "F1score = f1_score(y_test30_dummy, y_predTest30_dummy)\n",
    "print('A train test split of 70/30 for dummy data had a best params of %s with a score of %.3f and a F1 Score : %.3f on the test data.\\n' % (gSearchCV.best_params_, gSearchCV.best_score_,F1score))\n",
    "\n",
    "gSearchCV.fit(X_train50, y_train50)\n",
    "y_predTest50 = gSearchCV.predict(X_test50)\n",
    "\n",
    "F1score = f1_score(y_test50,y_predTest50)\n",
    "print('A train test split of 50/50 had a best params of %s with a score of %.3f and a F1 Score : %.3f on the test data.\\n' % (gSearchCV.best_params_, gSearchCV.best_score_,F1score))\n",
    "\n",
    "gSearchCV.fit(X_train50_dummy, y_train50_dummy)\n",
    "y_predTest50_dummy = gSearchCV.predict(X_test50_dummy)\n",
    "\n",
    "F1score = f1_score(y_test50_dummy, y_predTest50_dummy)\n",
    "print('A train test split of 50/50 for dummy data had a best params of %s with a score of %.3f and a F1 Score : %.3f on the test data.\\n' % (gSearchCV.best_params_, gSearchCV.best_score_,F1score))"
   ]
  },
  {
   "cell_type": "markdown",
   "metadata": {},
   "source": [
    "Starting with a Logistic Regression, we apply multiple C parameter values on GridSearchCV to help us find the best C parameter and different l1 rations between 0 and 1 with elasticnet. We applied this on the train test split created with dummy variables and non-dummy variables and took the split with the best F1 score. Looking at the results, we see the parameters differ but one thing in common is they all had a max_iter of 10. Our 70/30 split with no dummy data had a F1 score of 0.811 so we will use this as our logistic model."
   ]
  },
  {
   "cell_type": "markdown",
   "metadata": {},
   "source": [
    "## 5.3 Decision Trees"
   ]
  },
  {
   "cell_type": "code",
   "execution_count": 4,
   "metadata": {},
   "outputs": [
    {
     "name": "stdout",
     "output_type": "stream",
     "text": [
      "A train test split of 70/30 had a best params of {'criterion': 'entropy', 'max_depth': 3} with a score of 0.782 and a F1 Score : 0.789 on the test data.\n",
      "\n",
      "A train test split of 70/30 for dummy data had a best params of {'criterion': 'entropy', 'max_depth': 3} with a score of 0.807 and a F1 Score : 0.734 on the test data.\n",
      "\n",
      "A train test split of 50/50 had a best params of {'criterion': 'gini', 'max_depth': 1} with a score of 0.791 and a F1 Score : 0.656 on the test data.\n",
      "\n",
      "A train test split of 50/50 for dummy data had a best params of {'criterion': 'entropy', 'max_depth': 1} with a score of 0.743 and a F1 Score : 0.649 on the test data.\n",
      "\n"
     ]
    }
   ],
   "source": [
    "decTree = tree.DecisionTreeClassifier()\n",
    "params = {'criterion' : ['gini','entropy'], 'max_depth' : [1,2,3,4,5,6,7,8,9,10,15,20,30,50]}\n",
    "gSearchCV = GridSearchCV(decTree, param_grid = params, cv=7, n_jobs = -1)\n",
    "\n",
    "gSearchCV.fit(X_train70, y_train70)\n",
    "y_predTest30 = gSearchCV.predict(X_test30)\n",
    "\n",
    "F1score = f1_score(y_test30,y_predTest30)\n",
    "print('A train test split of 70/30 had a best params of %s with a score of %.3f and a F1 Score : %.3f on the test data.\\n' % (gSearchCV.best_params_, gSearchCV.best_score_,F1score))\n",
    "\n",
    "gSearchCV.fit(X_train70_dummy, y_train70_dummy)\n",
    "y_predTest30_dummy = gSearchCV.predict(X_test30_dummy)\n",
    "\n",
    "F1score = f1_score(y_test30_dummy, y_predTest30_dummy)\n",
    "print('A train test split of 70/30 for dummy data had a best params of %s with a score of %.3f and a F1 Score : %.3f on the test data.\\n' % (gSearchCV.best_params_, gSearchCV.best_score_,F1score))\n",
    "\n",
    "gSearchCV.fit(X_train50, y_train50)\n",
    "y_predTest50 = gSearchCV.predict(X_test50)\n",
    "\n",
    "F1score = f1_score(y_test50,y_predTest50)\n",
    "print('A train test split of 50/50 had a best params of %s with a score of %.3f and a F1 Score : %.3f on the test data.\\n' % (gSearchCV.best_params_, gSearchCV.best_score_,F1score))\n",
    "\n",
    "gSearchCV.fit(X_train50_dummy, y_train50_dummy)\n",
    "y_predTest50_dummy = gSearchCV.predict(X_test50_dummy)\n",
    "\n",
    "F1score = f1_score(y_test50_dummy, y_predTest50_dummy)\n",
    "print('A train test split of 50/50 for dummy data had a best params of %s with a score of %.3f and a F1 Score : %.3f on the test data.\\n' % (gSearchCV.best_params_, gSearchCV.best_score_,F1score))"
   ]
  },
  {
   "cell_type": "markdown",
   "metadata": {},
   "source": [
    "Our best F1 score was found with the parameters of 'entropy' for criterion and a 'max_depth'of 3. Our F1 score had a value of 0.789, which is fairly close to logistic regression. So far, we will compare these two models at the end unless the others look better."
   ]
  },
  {
   "cell_type": "markdown",
   "metadata": {},
   "source": [
    "## 5.4 KNeighborsClassifier"
   ]
  },
  {
   "cell_type": "code",
   "execution_count": 5,
   "metadata": {},
   "outputs": [
    {
     "name": "stdout",
     "output_type": "stream",
     "text": [
      "A train test split of 70/30 had a best params of {'leaf_size': 15, 'n_neighbors': 20, 'weights': 'uniform'} with a score of 0.850 and a F1 Score : 0.783 on the test data.\n",
      "\n",
      "A train test split of 70/30 for dummy data had a best params of {'leaf_size': 15, 'n_neighbors': 50, 'weights': 'uniform'} with a score of 0.846 and a F1 Score : 0.811 on the test data.\n",
      "\n",
      "A train test split of 50/50 had a best params of {'leaf_size': 15, 'n_neighbors': 20, 'weights': 'distance'} with a score of 0.818 and a F1 Score : 0.806 on the test data.\n",
      "\n",
      "A train test split of 50/50 for dummy data had a best params of {'leaf_size': 15, 'n_neighbors': 7, 'weights': 'uniform'} with a score of 0.817 and a F1 Score : 0.781 on the test data.\n",
      "\n"
     ]
    }
   ],
   "source": [
    "decTree = KNeighborsClassifier()\n",
    "params = {'weights' : ['uniform','distance'], 'leaf_size' : [15,30,60,100,200], 'n_neighbors' : [2,5,7,10,15,20,30,50]}\n",
    "gSearchCV = GridSearchCV(decTree,param_grid = params, cv=5, n_jobs = -1)\n",
    "\n",
    "gSearchCV.fit(X_train70, y_train70)\n",
    "y_predTest30 = gSearchCV.predict(X_test30)\n",
    "\n",
    "F1score = f1_score(y_test30,y_predTest30)\n",
    "print('A train test split of 70/30 had a best params of %s with a score of %.3f and a F1 Score : %.3f on the test data.\\n' % (gSearchCV.best_params_, gSearchCV.best_score_,F1score))\n",
    "\n",
    "gSearchCV.fit(X_train70_dummy, y_train70_dummy)\n",
    "y_predTest30_dummy = gSearchCV.predict(X_test30_dummy)\n",
    "\n",
    "F1score = f1_score(y_test30_dummy, y_predTest30_dummy)\n",
    "print('A train test split of 70/30 for dummy data had a best params of %s with a score of %.3f and a F1 Score : %.3f on the test data.\\n' % (gSearchCV.best_params_, gSearchCV.best_score_,F1score))\n",
    "\n",
    "gSearchCV.fit(X_train50, y_train50)\n",
    "y_predTest50 = gSearchCV.predict(X_test50)\n",
    "\n",
    "F1score = f1_score(y_test50,y_predTest50)\n",
    "print('A train test split of 50/50 had a best params of %s with a score of %.3f and a F1 Score : %.3f on the test data.\\n' % (gSearchCV.best_params_, gSearchCV.best_score_,F1score))\n",
    "\n",
    "gSearchCV.fit(X_train50_dummy, y_train50_dummy)\n",
    "y_predTest50_dummy = gSearchCV.predict(X_test50_dummy)\n",
    "\n",
    "F1score = f1_score(y_test50_dummy, y_predTest50_dummy)\n",
    "print('A train test split of 50/50 for dummy data had a best params of %s with a score of %.3f and a F1 Score : %.3f on the test data.\\n' % (gSearchCV.best_params_, gSearchCV.best_score_,F1score))"
   ]
  },
  {
   "cell_type": "markdown",
   "metadata": {},
   "source": [
    "Our best F1 score here is 0.811, which is the same as what we got with logistic regression. The best parameters were a leaf_size of 15, n_neighbors of 50 and weights of uniform. Decision tree had a lower F1 score so we will drop that model and look at KNieghborsClassifier instead."
   ]
  },
  {
   "cell_type": "markdown",
   "metadata": {},
   "source": [
    "## 5.5 Random Forest Classifier"
   ]
  },
  {
   "cell_type": "code",
   "execution_count": 6,
   "metadata": {},
   "outputs": [
    {
     "name": "stdout",
     "output_type": "stream",
     "text": [
      "A train test split of 70/30 had a best params of {'criterion': 'gini', 'max_depth': 1, 'n_estimators': 200} with a score of 0.831 and a F1 Score : 0.816 on the test data.\n",
      "\n",
      "A train test split of 70/30 for dummy data had a best params of {'criterion': 'entropy', 'max_depth': 1, 'n_estimators': 100} with a score of 0.851 and a F1 Score : 0.822 on the test data.\n",
      "\n",
      "A train test split of 50/50 had a best params of {'criterion': 'gini', 'max_depth': 5, 'n_estimators': 500} with a score of 0.852 and a F1 Score : 0.744 on the test data.\n",
      "\n",
      "A train test split of 50/50 for dummy data had a best params of {'criterion': 'entropy', 'max_depth': 1, 'n_estimators': 300} with a score of 0.831 and a F1 Score : 0.790 on the test data.\n",
      "\n"
     ]
    }
   ],
   "source": [
    "rfClass = RandomForestClassifier()\n",
    "params = {'n_estimators' : [25,50,100,150,200,300,500], 'criterion' : ['gini','entropy'],'max_depth' : [1,2,3,4,5,6,7,8]}\n",
    "gSearchCV = GridSearchCV(rfClass,param_grid = params, cv=7, n_jobs = -1)\n",
    "\n",
    "gSearchCV.fit(X_train70, y_train70)\n",
    "y_predTest30 = gSearchCV.predict(X_test30)\n",
    "\n",
    "F1score = f1_score(y_test30,y_predTest30)\n",
    "print('A train test split of 70/30 had a best params of %s with a score of %.3f and a F1 Score : %.3f on the test data.\\n' % (gSearchCV.best_params_, gSearchCV.best_score_,F1score))\n",
    "\n",
    "gSearchCV.fit(X_train70_dummy, y_train70_dummy)\n",
    "y_predTest30_dummy = gSearchCV.predict(X_test30_dummy)\n",
    "\n",
    "F1score = f1_score(y_test30_dummy, y_predTest30_dummy)\n",
    "print('A train test split of 70/30 for dummy data had a best params of %s with a score of %.3f and a F1 Score : %.3f on the test data.\\n' % (gSearchCV.best_params_, gSearchCV.best_score_,F1score))\n",
    "\n",
    "gSearchCV.fit(X_train50, y_train50)\n",
    "y_predTest50 = gSearchCV.predict(X_test50)\n",
    "\n",
    "F1score = f1_score(y_test50,y_predTest50)\n",
    "print('A train test split of 50/50 had a best params of %s with a score of %.3f and a F1 Score : %.3f on the test data.\\n' % (gSearchCV.best_params_, gSearchCV.best_score_,F1score))\n",
    "\n",
    "gSearchCV.fit(X_train50_dummy, y_train50_dummy)\n",
    "y_predTest50_dummy = gSearchCV.predict(X_test50_dummy)\n",
    "\n",
    "F1score = f1_score(y_test50_dummy, y_predTest50_dummy)\n",
    "print('A train test split of 50/50 for dummy data had a best params of %s with a score of %.3f and a F1 Score : %.3f on the test data.\\n' % (gSearchCV.best_params_, gSearchCV.best_score_,F1score))"
   ]
  },
  {
   "cell_type": "markdown",
   "metadata": {},
   "source": [
    "Our best F1 score is 0.822 which is better than either Logistic Regression or KNeighbors. We will look at all three of these models with their best parameters and determine which one produces the least number of false negatives."
   ]
  },
  {
   "cell_type": "markdown",
   "metadata": {},
   "source": [
    "## 5.6 Conclusion"
   ]
  },
  {
   "cell_type": "markdown",
   "metadata": {},
   "source": [
    "Looking at our four models, we see that Logistic Regression provides us with the highest F1 score with a 70/30 split and without using dummy data. Our second best is KNeighborsclassifier with a 70/30 split and also not using the dummy data. We will now compare these two models and see how they perform. We want to try to minimize our false negatives as much as possible so we will be picking the model that does so."
   ]
  },
  {
   "cell_type": "code",
   "execution_count": 16,
   "metadata": {},
   "outputs": [
    {
     "name": "stdout",
     "output_type": "stream",
     "text": [
      "Precision : 0.811 0.894\n",
      "Recall : 0.811 0.618\n",
      "Accuracy : 0.844 0.792\n",
      "F1 Score : 0.811 0.730\n"
     ]
    },
    {
     "data": {
      "text/plain": [
       "<sklearn.metrics._plot.confusion_matrix.ConfusionMatrixDisplay at 0x1e0d0f23430>"
      ]
     },
     "execution_count": 16,
     "metadata": {},
     "output_type": "execute_result"
    },
    {
     "data": {
      "image/png": "[encoded data removed]",
      "text/plain": [
       "<Figure size 1080x1080 with 2 Axes>"
      ]
     },
     "metadata": {
      "needs_background": "light"
     },
     "output_type": "display_data"
    }
   ],
   "source": [
    "model1 = LogisticRegression(C = 0.01, max_iter = 10, penalty = 'elasticnet', solver = 'saga', l1_ratio = 0.2)\n",
    "model1_2 = LogisticRegression(C = 0.01, max_iter = 10, penalty = 'elasticnet', solver = 'saga', l1_ratio = 0.2)\n",
    "model1.fit(X_train70,y_train70)\n",
    "model1_2.fit(X_train50,y_train50)\n",
    "\n",
    "y_pred = model1.predict(X_test30)\n",
    "y_pred_2 = model1_2.predict(X_test50)\n",
    "\n",
    "print('Precision : %.3f %.3f' % (precision_score(y_test30,y_pred),precision_score(y_test50,y_pred_2)))\n",
    "print('Recall : %.3f %.3f' % (recall_score(y_test30,y_pred),recall_score(y_test50,y_pred_2)))\n",
    "print('Accuracy : %.3f %.3f' % (accuracy_score(y_test30,y_pred),accuracy_score(y_test50,y_pred_2)))\n",
    "print('F1 Score : %.3f %.3f' % (f1_score(y_test30,y_pred),f1_score(y_test50,y_pred_2)))\n",
    "\n",
    "fig, ax = plt.subplots()\n",
    "fig.set_figheight(15)\n",
    "fig.set_figwidth(15)\n",
    "plot_confusion_matrix(model1,X_test30,y_test30,cmap=plt.cm.Blues,ax=ax)"
   ]
  },
  {
   "cell_type": "code",
   "execution_count": 95,
   "metadata": {},
   "outputs": [
    {
     "data": {
      "image/png": "[encoded data removed]",
      "text/plain": [
       "<Figure size 1440x720 with 1 Axes>"
      ]
     },
     "metadata": {
      "needs_background": "light"
     },
     "output_type": "display_data"
    }
   ],
   "source": [
    "x = np.arange(1,len(columns) + 1)\n",
    "\n",
    "fig, ax = plt.subplots()\n",
    "fig.set_figheight(10)\n",
    "fig.set_figwidth(20)\n",
    "\n",
    "plt.plot([0.75,13.25],[0,0], c = 'black')\n",
    "plt.bar(x,model1.coef_[0],width = 0.5,tick_label = columns)\n",
    "plt.title('Logistic Regression Feature Importance')\n",
    "plt.xlabel('Columns')\n",
    "plt.ylabel('Log Reg Coefficients')\n",
    "\n",
    "fig.tight_layout()\n",
    "plt.show()"
   ]
  },
  {
   "cell_type": "markdown",
   "metadata": {},
   "source": [
    "The above bar chart shows the important of each column for our logistic regression model. The higher the bar, the more important it is in determining whether a patient has heart disease. We can see the most important columns are thal, cp, exang and ca. As well as thalach but with a negative impact instead of positive. A lot of these columns we saw had strong relevance in our EDA notebook and this confirms that those findings we saw did have an impact on some models in predicting heart disease."
   ]
  },
  {
   "cell_type": "code",
   "execution_count": 20,
   "metadata": {},
   "outputs": [
    {
     "name": "stdout",
     "output_type": "stream",
     "text": [
      "Precision : 0.769 0.839\n",
      "Recall : 0.833 0.825\n",
      "Accuracy : 0.833 0.859\n",
      "F1 Score : 0.800 0.832\n"
     ]
    },
    {
     "data": {
      "text/plain": [
       "<sklearn.metrics._plot.confusion_matrix.ConfusionMatrixDisplay at 0x1e0d1845d30>"
      ]
     },
     "execution_count": 20,
     "metadata": {},
     "output_type": "execute_result"
    },
    {
     "data": {
      "image/png": "[encoded data removed]",
      "text/plain": [
       "<Figure size 1080x1080 with 2 Axes>"
      ]
     },
     "metadata": {
      "needs_background": "light"
     },
     "output_type": "display_data"
    }
   ],
   "source": [
    "model2 = KNeighborsClassifier(leaf_size = 15,n_neighbors=30,weights = 'uniform')\n",
    "model2_2 = KNeighborsClassifier(leaf_size = 15,n_neighbors=30,weights = 'uniform')\n",
    "model2.fit(X_train70_dummy,y_train70_dummy)\n",
    "model2_2.fit(X_train50_dummy,y_train50_dummy)\n",
    "\n",
    "y_pred = model2.predict(X_test30_dummy)\n",
    "y_pred_2 = model2_2.predict(X_test50_dummy)\n",
    "\n",
    "print('Precision : %.3f %.3f' % (precision_score(y_test30_dummy,y_pred),precision_score(y_test50_dummy,y_pred_2)))\n",
    "print('Recall : %.3f %.3f' % (recall_score(y_test30_dummy,y_pred),recall_score(y_test50_dummy,y_pred_2)))\n",
    "print('Accuracy : %.3f %.3f' % (accuracy_score(y_test30_dummy,y_pred),accuracy_score(y_test50_dummy,y_pred_2)))\n",
    "print('F1 Score : %.3f %.3f' % (f1_score(y_test30_dummy,y_pred),f1_score(y_test50_dummy,y_pred_2)))\n",
    "\n",
    "fig, ax = plt.subplots()\n",
    "fig.set_figheight(15)\n",
    "fig.set_figwidth(15)\n",
    "plot_confusion_matrix(model2,X_test30_dummy,y_test30_dummy,cmap=plt.cm.Blues,ax=ax)"
   ]
  },
  {
   "cell_type": "code",
   "execution_count": 21,
   "metadata": {},
   "outputs": [
    {
     "name": "stdout",
     "output_type": "stream",
     "text": [
      "Precision : 0.800 0.839\n",
      "Recall : 0.778 0.825\n",
      "Accuracy : 0.833 0.859\n",
      "F1 Score : 0.789 0.832\n"
     ]
    },
    {
     "data": {
      "text/plain": [
       "<sklearn.metrics._plot.confusion_matrix.ConfusionMatrixDisplay at 0x1e0d0f16e20>"
      ]
     },
     "execution_count": 21,
     "metadata": {},
     "output_type": "execute_result"
    },
    {
     "data": {
      "image/png": "[encoded data removed]",
      "text/plain": [
       "<Figure size 1080x1080 with 2 Axes>"
      ]
     },
     "metadata": {
      "needs_background": "light"
     },
     "output_type": "display_data"
    }
   ],
   "source": [
    "model3 = RandomForestClassifier(criterion = 'entropy', max_depth = 1, n_estimators = 100)\n",
    "model3_2 = RandomForestClassifier(criterion = 'entropy', max_depth =  1, n_estimators = 100)\n",
    "model3.fit(X_train70_dummy,y_train70_dummy)\n",
    "model3_2.fit(X_train50_dummy,y_train50_dummy)\n",
    "\n",
    "y_pred = model3.predict(X_test30_dummy)\n",
    "y_pred_2 = model3_2.predict(X_test50_dummy)\n",
    "\n",
    "print('Precision : %.3f %.3f' % (precision_score(y_test30_dummy,y_pred),precision_score(y_test50_dummy,y_pred_2)))\n",
    "print('Recall : %.3f %.3f' % (recall_score(y_test30_dummy,y_pred),recall_score(y_test50_dummy,y_pred_2)))\n",
    "print('Accuracy : %.3f %.3f' % (accuracy_score(y_test30_dummy,y_pred),accuracy_score(y_test50_dummy,y_pred_2)))\n",
    "print('F1 Score : %.3f %.3f' % (f1_score(y_test30_dummy,y_pred),f1_score(y_test50_dummy,y_pred_2)))\n",
    "\n",
    "fig, ax = plt.subplots()\n",
    "fig.set_figheight(15)\n",
    "fig.set_figwidth(15)\n",
    "plot_confusion_matrix(model3,X_test30_dummy,y_test30_dummy,cmap=plt.cm.Blues,ax=ax)"
   ]
  },
  {
   "cell_type": "markdown",
   "metadata": {},
   "source": [
    "|Model|Split Size|Dummy Data|F1 Score|Accuracy|Precision|Recall|\n",
    "|------|------|------|------|------|------|------|\n",
    "|Logistic Regression|70/30|0|0.811|0.844|0.811|0.811|\n",
    "|KNeighborsClassifier|70/30|1|0.800|0.833|0.769|0.833|\n",
    "|Random Forest|70/30|1|0.789|0.833|0.800|0.778|\n",
    "|Logistic Regression|50/50|0|0.730|0.792|0.894|0.618|\n",
    "|KNeighborsClassifier|50/50|1|0.832|0.859|0.839|0.825|\n",
    "|Random Forest|50/50|1|0.832|0.859|0.839|0.825|"
   ]
  },
  {
   "cell_type": "markdown",
   "metadata": {},
   "source": [
    "Looking at the table above, we see that KNeighbors and Random Forest gives us the highest F1 score. Looking at the confusion matrixs shows us that KNeighbors gives us the least amount of false negatives though. Based on this, we will use KNeighbors as our final model since we are looking to prioritize false negatives. KNeighbors gave us the lowest amount of false negatives with the highest F1 scoer on our test data."
   ]
  },
  {
   "cell_type": "code",
   "execution_count": 102,
   "metadata": {},
   "outputs": [],
   "source": [
    "finalModel = KNeighborsClassifier(leaf_size = 15,n_neighbors=30,weights = 'uniform')\n",
    "finalModel.fit(scaledFeatures_dummy,y)\n",
    "\n",
    "finalModelExport = open('finalModel.p','wb')\n",
    "pickle.dump(finalModel,finalModelExport)\n",
    "finalModelExport.close()"
   ]
  },
  {
   "cell_type": "code",
   "execution_count": 104,
   "metadata": {},
   "outputs": [
    {
     "data": {
      "image/png": "[encoded data removed]",
      "text/plain": [
       "<Figure size 1080x1080 with 2 Axes>"
      ]
     },
     "metadata": {
      "needs_background": "light"
     },
     "output_type": "display_data"
    }
   ],
   "source": [
    "fig, ax = plt.subplots()\n",
    "fig.set_figheight(15)\n",
    "fig.set_figwidth(15)\n",
    "plot_confusion_matrix(finalModel,scaledFeatures_dummy,y,cmap=plt.cm.Blues,ax=ax)\n",
    "plt.show()"
   ]
  },
  {
   "cell_type": "markdown",
   "metadata": {},
   "source": [
    "With this being our final model, we take a look at how our model performs when trained on the entire dataset. We can see that our confusion matrix shows similar results which looks positive. With the model being trained on the entire dataset, the model is also exported to be able to be stored and accessed easily without needing to train a new model. The model is trained on the entire dataset since it will provide us with the best results for future predictions. We do not normally do this during testing to make sure the model we are evaluating is not overfitting to our data but after determining it is not, we train on the entire dataset."
   ]
  },
  {
   "cell_type": "code",
   "execution_count": null,
   "metadata": {},
   "outputs": [],
   "source": []
  }
 ],
 "metadata": {
  "kernelspec": {
   "display_name": "Python 3",
   "language": "python",
   "name": "python3"
  },
  "language_info": {
   "codemirror_mode": {
    "name": "ipython",
    "version": 3
   },
   "file_extension": ".py",
   "mimetype": "text/x-python",
   "name": "python",
   "nbconvert_exporter": "python",
   "pygments_lexer": "ipython3",
   "version": "3.8.3"
  }
 },
 "nbformat": 4,
 "nbformat_minor": 4
}
