{
 "cells": [
  {
   "cell_type": "markdown",
   "metadata": {},
   "source": [
    "# 5 Modeling"
   ]
  },
  {
   "cell_type": "markdown",
   "metadata": {},
   "source": [
    "## 5.1 Import Modules and Data"
   ]
  },
  {
   "cell_type": "code",
   "execution_count": 1,
   "metadata": {},
   "outputs": [],
   "source": [
    "import pandas as pd\n",
    "import matplotlib.pyplot as plt\n",
    "import seaborn as sns\n",
    "import numpy as np\n",
    "import pickle\n",
    "\n",
    "from sklearn.model_selection import GridSearchCV\n",
    "\n",
    "from sklearn.linear_model import LogisticRegression\n",
    "from sklearn import tree\n",
    "from sklearn.neighbors import KNeighborsClassifier\n",
    "from sklearn.ensemble import RandomForestClassifier\n",
    "\n",
    "from sklearn.metrics import f1_score, plot_confusion_matrix"
   ]
  },
  {
   "cell_type": "code",
   "execution_count": 2,
   "metadata": {},
   "outputs": [
    {
     "name": "stdout",
     "output_type": "stream",
     "text": [
      "(207, 13) (207, 1)\n"
     ]
    }
   ],
   "source": [
    "Train70 = open('../Step 4 - Pre-Processing/Train70Data.p','rb')\n",
    "X_train70, y_train70 = pickle.load(Train70)\n",
    "Train70.close()\n",
    "\n",
    "Test30 = open('../Step 4 - Pre-Processing/Test30Data.p','rb')\n",
    "X_test30, y_test30 = pickle.load(Test30)\n",
    "Test30.close()\n",
    "\n",
    "Train70_dummy = open('../Step 4 - Pre-Processing/Train70Data_dummy.p','rb')\n",
    "X_train70_dummy, y_train70_dummy = pickle.load(Train70_dummy)\n",
    "Train70_dummy.close()\n",
    "\n",
    "Test30_dummy = open('../Step 4 - Pre-Processing/Test30Data_dummy.p','rb')\n",
    "X_test30_dummy, y_test30_dummy = pickle.load(Test30_dummy)\n",
    "Test30_dummy.close()\n",
    "\n",
    "X_train70, y_train70 = X_train70.values, y_train70.values\n",
    "X_test30, y_test30 = X_test30.values, y_test30.values\n",
    "X_train70_dummy, y_train70_dummy = X_train70_dummy.values, y_train70_dummy.values\n",
    "X_test30_dummy, y_test30_dummy = X_test30_dummy.values, y_test30_dummy.values\n",
    "print(X_train70.shape, y_train70.shape)"
   ]
  },
  {
   "cell_type": "markdown",
   "metadata": {},
   "source": [
    "## 5.2 Logistic Regression"
   ]
  },
  {
   "cell_type": "code",
   "execution_count": 3,
   "metadata": {},
   "outputs": [
    {
     "name": "stderr",
     "output_type": "stream",
     "text": [
      "C:\\Users\\DinkaFox\\anaconda3\\lib\\site-packages\\sklearn\\utils\\validation.py:73: DataConversionWarning: A column-vector y was passed when a 1d array was expected. Please change the shape of y to (n_samples, ), for example using ravel().\n",
      "  return f(**kwargs)\n"
     ]
    },
    {
     "name": "stdout",
     "output_type": "stream",
     "text": [
      "A train test split of 70/30 had a best params of {'C': 0.01, 'max_iter': 50, 'penalty': 'l2', 'solver': 'lbfgs'} with a score of 0.8545155993431856 and a F1 Score : 0.8048780487804877 on the test data.\n",
      "\n",
      "A train test split of 70/30 for dummy data had a best params of {'C': 10, 'max_iter': 50, 'penalty': 'l1', 'solver': 'liblinear'} with a score of 0.8402298850574713 and a F1 Score : 0.8437499999999999 on the test data.\n",
      "\n"
     ]
    },
    {
     "name": "stderr",
     "output_type": "stream",
     "text": [
      "C:\\Users\\DinkaFox\\anaconda3\\lib\\site-packages\\sklearn\\utils\\validation.py:73: DataConversionWarning: A column-vector y was passed when a 1d array was expected. Please change the shape of y to (n_samples, ), for example using ravel().\n",
      "  return f(**kwargs)\n"
     ]
    }
   ],
   "source": [
    "logReg = LogisticRegression()\n",
    "params = {'C' : [0.01,0.1,0.5,1,1.1,1.5,2,3,5,10,15,30,50,100], 'max_iter' : [50,100,150,200,300,500,1000], 'penalty' : ['l1','l2','elasticnet'], 'solver' : ['lbfgs','saga','liblinear']}\n",
    "gSearchCV = GridSearchCV(logReg, param_grid = params, cv=7, n_jobs = -1)\n",
    "\n",
    "gSearchCV.fit(X_train70, y_train70)\n",
    "y_predTest30 = gSearchCV.predict(X_test30)\n",
    "\n",
    "F1score = f1_score(y_test30,y_predTest30)\n",
    "print(f'A train test split of 70/30 had a best params of {gSearchCV.best_params_} with a score of {gSearchCV.best_score_} and a F1 Score : {F1score} on the test data.\\n')\n",
    "\n",
    "gSearchCV.fit(X_train70_dummy, y_train70_dummy)\n",
    "y_predTest30_dummy = gSearchCV.predict(X_test30_dummy)\n",
    "\n",
    "F1score = f1_score(y_test30_dummy, y_predTest30_dummy)\n",
    "print(f'A train test split of 70/30 for dummy data had a best params of {gSearchCV.best_params_} with a score of {gSearchCV.best_score_} and a F1 Score : {F1score} on the test data.\\n')"
   ]
  },
  {
   "cell_type": "markdown",
   "metadata": {},
   "source": [
    "Starting with a Logistic Regression, we apply multiple C parameter values on GridSearchCV to help us find the best C parameter. We applied this on the train test split created with dummy variables and non-dummy variables and took the split with the best F1 score. Looking both the results, we see the parameters differ depending on whether we use the dummy variables or not and wound up getting a better F1 score on the dummy variable data."
   ]
  },
  {
   "cell_type": "markdown",
   "metadata": {},
   "source": [
    "## 5.3 Decision Trees"
   ]
  },
  {
   "cell_type": "code",
   "execution_count": 4,
   "metadata": {},
   "outputs": [
    {
     "name": "stdout",
     "output_type": "stream",
     "text": [
      "A train test split of 70/30 had a best params of {'criterion': 'entropy', 'max_depth': 3} with a score of 0.7679802955665024 and a F1 Score : 0.6835443037974683 on the test data.\n",
      "\n",
      "A train test split of 70/30 for dummy data had a best params of {'criterion': 'entropy', 'max_depth': 3} with a score of 0.7628899835796388 and a F1 Score : 0.6984126984126984 on the test data.\n",
      "\n"
     ]
    }
   ],
   "source": [
    "decTree = tree.DecisionTreeClassifier()\n",
    "params = {'criterion' : ['gini','entropy'], 'max_depth' : [1,2,3,4,5,6,7,8,9,10,15,20,30,50]}\n",
    "gSearchCV = GridSearchCV(decTree, param_grid = params, cv=7, n_jobs = -1)\n",
    "\n",
    "gSearchCV.fit(X_train70, y_train70)\n",
    "y_predTest30 = gSearchCV.predict(X_test30)\n",
    "\n",
    "F1score = f1_score(y_test30, y_predTest30)\n",
    "print(f'A train test split of 70/30 had a best params of {gSearchCV.best_params_} with a score of {gSearchCV.best_score_} and a F1 Score : {F1score} on the test data.\\n')\n",
    "\n",
    "gSearchCV.fit(X_train70_dummy, y_train70_dummy)\n",
    "y_predTest30_dummy = gSearchCV.predict(X_test30_dummy)\n",
    "\n",
    "F1score = f1_score(y_test30_dummy,y_predTest30_dummy)\n",
    "print(f'A train test split of 70/30 for dummy data had a best params of {gSearchCV.best_params_} with a score of {gSearchCV.best_score_} and a F1 Score : {F1score} on the test data.\\n')"
   ]
  },
  {
   "cell_type": "markdown",
   "metadata": {},
   "source": [
    "Looking at our F1 score, the metrics are a huge leap from our Logistic Regression model. Our best F1 score was found with the parameters of 'entropy' for criterion and a 'max_depth'of 3. Our F1 score had a value of 0.698, which is a huge leap from 0.843. It is safe to say we will not be using this model and our current pick is the Logistic Regression model."
   ]
  },
  {
   "cell_type": "markdown",
   "metadata": {},
   "source": [
    "## 5.4 KNeighborsClassifier"
   ]
  },
  {
   "cell_type": "code",
   "execution_count": 5,
   "metadata": {},
   "outputs": [
    {
     "name": "stderr",
     "output_type": "stream",
     "text": [
      "C:\\Users\\DinkaFox\\anaconda3\\lib\\site-packages\\sklearn\\model_selection\\_search.py:765: DataConversionWarning: A column-vector y was passed when a 1d array was expected. Please change the shape of y to (n_samples, ), for example using ravel().\n",
      "  self.best_estimator_.fit(X, y, **fit_params)\n"
     ]
    },
    {
     "name": "stdout",
     "output_type": "stream",
     "text": [
      "A train test split of 70/30 had a best params of {'leaf_size': 15, 'n_neighbors': 15, 'weights': 'uniform'} with a score of 0.8548440065681444 and a F1 Score : 0.8095238095238095 on the test data.\n",
      "\n",
      "A train test split of 70/30 for dummy data had a best params of {'leaf_size': 15, 'n_neighbors': 15, 'weights': 'uniform'} with a score of 0.8213464696223316 and a F1 Score : 0.8115942028985507 on the test data.\n",
      "\n"
     ]
    },
    {
     "name": "stderr",
     "output_type": "stream",
     "text": [
      "C:\\Users\\DinkaFox\\anaconda3\\lib\\site-packages\\sklearn\\model_selection\\_search.py:765: DataConversionWarning: A column-vector y was passed when a 1d array was expected. Please change the shape of y to (n_samples, ), for example using ravel().\n",
      "  self.best_estimator_.fit(X, y, **fit_params)\n"
     ]
    }
   ],
   "source": [
    "decTree = KNeighborsClassifier()\n",
    "params = {'weights' : ['uniform','distance'], 'leaf_size' : [15,30,60,100,200], 'n_neighbors' : [2,5,7,10,15,20,30,50]}\n",
    "gSearchCV = GridSearchCV(decTree,param_grid = params, cv=5, n_jobs = -1)\n",
    "\n",
    "gSearchCV.fit(X_train70, y_train70)\n",
    "y_predTest30 = gSearchCV.predict(X_test30)\n",
    "\n",
    "F1score = f1_score(y_test30, y_predTest30)\n",
    "print(f'A train test split of 70/30 had a best params of {gSearchCV.best_params_} with a score of {gSearchCV.best_score_} and a F1 Score : {F1score} on the test data.\\n')\n",
    "\n",
    "gSearchCV.fit(X_train70_dummy, y_train70_dummy)\n",
    "y_predTest30_dummy = gSearchCV.predict(X_test30_dummy)\n",
    "\n",
    "F1score = f1_score(y_test30_dummy, y_predTest30_dummy)\n",
    "print(f'A train test split of 70/30 for dummy data had a best params of {gSearchCV.best_params_} with a score of {gSearchCV.best_score_} and a F1 Score : {F1score} on the test data.\\n')"
   ]
  },
  {
   "cell_type": "markdown",
   "metadata": {},
   "source": [
    "Testing KNeighborsClassifier, we have seen a pattern that using dummy variables seems to perform than not using them. This can be seen in the 3 models evaluated so far and may be safe to say that this will occur in the next model. Our best model had the parameters of 'leaf_size' of 15, 'neighbors' of 15 and 'weights' of uniform. This gave us an F1 score of 0.811, which is a lot closer to Logistic Regression than the decision tree. I would like to compare this model against the Logistic Regression and see which model has the least false negatives since that is more important when determining whether someone has heart disease or not."
   ]
  },
  {
   "cell_type": "markdown",
   "metadata": {},
   "source": [
    "## 5.5 Random Forest Classifier"
   ]
  },
  {
   "cell_type": "code",
   "execution_count": 6,
   "metadata": {},
   "outputs": [
    {
     "name": "stderr",
     "output_type": "stream",
     "text": [
      "C:\\Users\\DinkaFox\\anaconda3\\lib\\site-packages\\sklearn\\model_selection\\_search.py:765: DataConversionWarning: A column-vector y was passed when a 1d array was expected. Please change the shape of y to (n_samples,), for example using ravel().\n",
      "  self.best_estimator_.fit(X, y, **fit_params)\n"
     ]
    },
    {
     "name": "stdout",
     "output_type": "stream",
     "text": [
      "A train test split of 70/30 had a best params of {'criterion': 'gini', 'max_depth': 4, 'n_estimators': 50} with a score of 0.8546798029556649 and a F1 Score : 0.7951807228915662 on the test data.\n",
      "\n"
     ]
    },
    {
     "name": "stderr",
     "output_type": "stream",
     "text": [
      "C:\\Users\\DinkaFox\\anaconda3\\lib\\site-packages\\sklearn\\model_selection\\_search.py:765: DataConversionWarning: A column-vector y was passed when a 1d array was expected. Please change the shape of y to (n_samples,), for example using ravel().\n",
      "  self.best_estimator_.fit(X, y, **fit_params)\n"
     ]
    },
    {
     "name": "stdout",
     "output_type": "stream",
     "text": [
      "A train test split of 70/30 for dummy data had a best params of {'criterion': 'entropy', 'max_depth': 5, 'n_estimators': 200} with a score of 0.8259441707717569 and a F1 Score : 0.78125 on the test data.\n",
      "\n"
     ]
    }
   ],
   "source": [
    "rfClass = RandomForestClassifier()\n",
    "params = {'n_estimators' : [25,50,100,150,200,300,500], 'criterion' : ['gini','entropy'],'max_depth' : [1,2,3,4,5,6,7,8]}\n",
    "gSearchCV = GridSearchCV(rfClass,param_grid = params, cv=7, n_jobs = -1)\n",
    "\n",
    "gSearchCV.fit(X_train70, y_train70)\n",
    "y_predTest30 = gSearchCV.predict(X_test30)\n",
    "\n",
    "F1score = f1_score(y_test30, y_predTest30)\n",
    "print(f'A train test split of 70/30 had a best params of {gSearchCV.best_params_} with a score of {gSearchCV.best_score_} and a F1 Score : {F1score} on the test data.\\n')\n",
    "\n",
    "gSearchCV.fit(X_train70_dummy, y_train70_dummy)\n",
    "y_predTest30_dummy = gSearchCV.predict(X_test30_dummy)\n",
    "\n",
    "F1score = f1_score(y_test30_dummy, y_predTest30_dummy)\n",
    "print(f'A train test split of 70/30 for dummy data had a best params of {gSearchCV.best_params_} with a score of {gSearchCV.best_score_} and a F1 Score : {F1score} on the test data.\\n')"
   ]
  },
  {
   "cell_type": "markdown",
   "metadata": {},
   "source": [
    "From this, we actually see that our non-dummy variable data performed slightly better. Our F1 score was 0.795, which is lower than Logistic Regression and KNeighborsClassifier. While 0.795 is a good score, we want to try to pick the best model and have two models with a higher F1 score. We will not continue to look at this model and will compare the Logistic Regression and KNeighborsClassifier in our conclusion."
   ]
  },
  {
   "cell_type": "markdown",
   "metadata": {},
   "source": [
    "## 5.6 Conclusion"
   ]
  },
  {
   "cell_type": "markdown",
   "metadata": {},
   "source": [
    "Looking at our four models, we see that Logistic Regression provides us with the highest F1 score. Our second best is KNeighborsclassifier and we want to compare these two to determine which gives us lower false negatives. We will look at both of these models further to determine which fits out requirements best. "
   ]
  },
  {
   "cell_type": "code",
   "execution_count": 19,
   "metadata": {},
   "outputs": [
    {
     "name": "stderr",
     "output_type": "stream",
     "text": [
      "C:\\Users\\DinkaFox\\anaconda3\\lib\\site-packages\\sklearn\\utils\\validation.py:73: DataConversionWarning: A column-vector y was passed when a 1d array was expected. Please change the shape of y to (n_samples, ), for example using ravel().\n",
      "  return f(**kwargs)\n"
     ]
    },
    {
     "data": {
      "text/plain": [
       "<sklearn.metrics._plot.confusion_matrix.ConfusionMatrixDisplay at 0x24cc0b0be20>"
      ]
     },
     "execution_count": 19,
     "metadata": {},
     "output_type": "execute_result"
    },
    {
     "data": {
      "image/png": "[encoded data removed]",
      "text/plain": [
       "<Figure size 1080x1080 with 2 Axes>"
      ]
     },
     "metadata": {
      "needs_background": "light"
     },
     "output_type": "display_data"
    }
   ],
   "source": [
    "model1 = LogisticRegression(C = 10, max_iter = 50, penalty = 'l1', solver = 'liblinear')\n",
    "model1.fit(X_train70_dummy,y_train70_dummy)\n",
    "\n",
    "fig, ax = plt.subplots()\n",
    "fig.set_figheight(15)\n",
    "fig.set_figwidth(15)\n",
    "plot_confusion_matrix(model1,X_test30_dummy,y_test30_dummy,cmap=plt.cm.Blues,ax=ax)"
   ]
  },
  {
   "cell_type": "code",
   "execution_count": 20,
   "metadata": {},
   "outputs": [
    {
     "name": "stderr",
     "output_type": "stream",
     "text": [
      "<ipython-input-20-7c516229e350>:2: DataConversionWarning: A column-vector y was passed when a 1d array was expected. Please change the shape of y to (n_samples, ), for example using ravel().\n",
      "  model2.fit(X_train70_dummy,y_train70_dummy)\n"
     ]
    },
    {
     "data": {
      "text/plain": [
       "<sklearn.metrics._plot.confusion_matrix.ConfusionMatrixDisplay at 0x24cc1ad4dc0>"
      ]
     },
     "execution_count": 20,
     "metadata": {},
     "output_type": "execute_result"
    },
    {
     "data": {
      "image/png": "[encoded data removed]",
      "text/plain": [
       "<Figure size 1080x1080 with 2 Axes>"
      ]
     },
     "metadata": {
      "needs_background": "light"
     },
     "output_type": "display_data"
    }
   ],
   "source": [
    "model2 = KNeighborsClassifier(leaf_size = 15,n_neighbors=15,weights = 'uniform')\n",
    "model2.fit(X_train70_dummy,y_train70_dummy)\n",
    "\n",
    "fig, ax = plt.subplots()\n",
    "fig.set_figheight(15)\n",
    "fig.set_figwidth(15)\n",
    "plot_confusion_matrix(model2,X_test30_dummy,y_test30_dummy,cmap=plt.cm.Blues,ax=ax)"
   ]
  },
  {
   "cell_type": "markdown",
   "metadata": {},
   "source": [
    "Looking at the confusion matrixs, we can see the differences in predictions between the two models. In our Logistic Regression, we can see 9 False Negatives and 1 False Positive. One thing we want to focus on is reducing the number of False Negatives. This is because it is safer for the individual to be told they have heart disease when they do not than it is to tell them they don't have it when they do. If a doctor suggests changes to a lifestyle to someone who doesn't actually have heart disease, it will not harm them as much as not telling someone with it to make those changes. Looking at K Neighbors Classifier, we can see that we have 8 False Negatives but also 5 False Positives. We can see our KNeighborsClassifier model has a slightly lower false negative but a significantly higher false positive score, which is responsible for the difference in our F1 score. Since KNeighborsClassifier provides us with a better false negative value, we will select this as our final model. The model will be trained on the full data set as to give us the best possible predictions when used to predict heart disease in new patients."
   ]
  },
  {
   "cell_type": "code",
   "execution_count": 22,
   "metadata": {},
   "outputs": [
    {
     "name": "stderr",
     "output_type": "stream",
     "text": [
      "<ipython-input-22-2f6ac33f0e84>:11: DataConversionWarning: A column-vector y was passed when a 1d array was expected. Please change the shape of y to (n_samples, ), for example using ravel().\n",
      "  finalModel.fit(X,y)\n"
     ]
    }
   ],
   "source": [
    "scaledData_dummy = open('../Step 4 - Pre-Processing/scaledFeatures_dummy.p','rb')\n",
    "X = pickle.load(scaledData_dummy)\n",
    "scaledData_dummy.close()\n",
    "\n",
    "targetData = open('../Step 4 - Pre-Processing/targetVariable.p','rb')\n",
    "y = pickle.load(targetData)\n",
    "targetData.close()\n",
    "\n",
    "\n",
    "finalModel = KNeighborsClassifier(leaf_size = 15,n_neighbors = 15,weights = 'uniform')\n",
    "finalModel.fit(X,y)\n",
    "\n",
    "KNeighborsModel = open('KNeighborsModel.p','wb')\n",
    "pickle.dump(finalModel,KNeighborsModel)\n",
    "KNeighborsModel.close()"
   ]
  },
  {
   "cell_type": "code",
   "execution_count": 24,
   "metadata": {},
   "outputs": [
    {
     "data": {
      "image/png": "[encoded data removed]",
      "text/plain": [
       "<Figure size 1080x1080 with 2 Axes>"
      ]
     },
     "metadata": {
      "needs_background": "light"
     },
     "output_type": "display_data"
    }
   ],
   "source": [
    "fig, ax = plt.subplots()\n",
    "fig.set_figheight(15)\n",
    "fig.set_figwidth(15)\n",
    "plot_confusion_matrix(finalModel,X,y,cmap=plt.cm.Blues,ax=ax)\n",
    "plt.show()"
   ]
  },
  {
   "cell_type": "markdown",
   "metadata": {},
   "source": [
    "With this being our final model, we take a look at how our model performs when trained on the entire dataset. We can see that our classification report shows similar results which looks positive. With the model being trained on the entire dataset, the model is also exported to be able to be stored and accessed easily without needing to train a new model. The model is trained on the entire dataset since it will provide us with the best results for future predictions. We do not normally do this during testing to make sure the model we are evaluating is not overfitting to our data but after determining it is not, we train on the entire dataset."
   ]
  }
 ],
 "metadata": {
  "kernelspec": {
   "display_name": "Python 3",
   "language": "python",
   "name": "python3"
  },
  "language_info": {
   "codemirror_mode": {
    "name": "ipython",
    "version": 3
   },
   "file_extension": ".py",
   "mimetype": "text/x-python",
   "name": "python",
   "nbconvert_exporter": "python",
   "pygments_lexer": "ipython3",
   "version": "3.8.3"
  }
 },
 "nbformat": 4,
 "nbformat_minor": 4
}
